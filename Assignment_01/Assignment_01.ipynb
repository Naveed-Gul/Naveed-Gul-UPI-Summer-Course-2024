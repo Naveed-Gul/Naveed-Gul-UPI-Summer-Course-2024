{
 "cells": [
  {
   "cell_type": "markdown",
   "metadata": {},
   "source": [
    "# First Case Study : Miles Per Gallon"
   ]
  },
  {
   "cell_type": "markdown",
   "metadata": {},
   "source": [
    "- Drivers are concerned with the mileage obtained by their automobiles. One driver has kept track of several tankfuls of gasoline by recording miles driven and gallons used for each tankful. Develop a sentinel-controlled-repetition script that prompts the user to input the miles driven and gallons used for each tankful. \n",
    "- The script should calculate and display the miles per gallon obtained for each tankful. After processing all input information, the script should calculate and display the combined miles per gallon obtained for all tankfuls (that is, total miles driven divided by total gallons used).\n",
    "- Requirment Output of The Program :\n",
    "\n",
    "Enter the gallons used (-1 to end): 12.8 <br>\n",
    "Enter the miles driven: 287 <br>\n",
    "The miles/gallon for this tank was 22.421875 <br>\n",
    "Enter the gallons used (-1 to end): 10.3 <br>\n",
    "Enter the miles driven: 200 <br>\n",
    "The miles/gallon for this tank was 19.417475 <br>\n",
    "Enter the gallons used (-1 to end): 5 <br>\n",
    "Enter the miles driven: 120 <br>\n",
    "The miles/gallon for this tank was 24.000000 <br>\n",
    "Enter the gallons used (-1 to end): -1 The overall average miles/gallon was 21.601423"
   ]
  },
  {
   "cell_type": "code",
   "execution_count": 1,
   "metadata": {},
   "outputs": [
    {
     "name": "stdout",
     "output_type": "stream",
     "text": [
      "The miles/gallon for this tank was 22.421875\n",
      "The miles/gallon for this tank was 19.417476\n",
      "The miles/gallon for this tank was 24.000000\n",
      "The overall average miles/gallon was 21.601423\n"
     ]
    }
   ],
   "source": [
    "def miles_per_gallon():\n",
    "    # Initialize total miles and total gallons\n",
    "    total_miles = 0.0\n",
    "    total_gallons = 0.0\n",
    "\n",
    "    # Loop to input data until sentinel value is entered\n",
    "    while True:\n",
    "        # Prompt user to input gallons used\n",
    "        gallons = float(input(\"Enter the gallons used (-1 to end): \"))\n",
    "        if gallons == -1:\n",
    "            break\n",
    "\n",
    "        # Prompt user to input miles driven\n",
    "        miles = float(input(\"Enter the miles driven: \"))\n",
    "\n",
    "        # Calculate miles per gallon for the current tank\n",
    "        mpg = miles / gallons\n",
    "        # Round the result to 6 decimal places\n",
    "        mpg = round(mpg, 6)\n",
    "\n",
    "        # Check if the gallon value has no decimal part, if so, print without decimal\n",
    "        gallons_display = f\"{gallons:.1f}\" if gallons % 1 != 0 else f\"{int(gallons)}\"\n",
    "\n",
    "        # Check if the miles value has no decimal part, if so, print without decimal\n",
    "        miles_display = f\"{miles:.1f}\" if miles % 1 != 0 else f\"{int(miles)}\"\n",
    "\n",
    "        # Print the input values and the calculated miles per gallon\n",
    "        # print(f\"Enter the gallons used (-1 to end): {gallons_display}\")\n",
    "        # print(f\"Enter the miles driven: {miles_display}\")\n",
    "        print(f\"The miles/gallon for this tank was {mpg:.6f}\")\n",
    "\n",
    "        # Update the total miles and total gallons\n",
    "        total_miles += miles\n",
    "        total_gallons += gallons\n",
    "\n",
    "    # Calculate and print the overall average miles per gallon if there are any gallons used\n",
    "    if total_gallons != 0:\n",
    "        overall_mpg = total_miles / total_gallons\n",
    "        overall_mpg = round(overall_mpg, 6)\n",
    "        print(f\"The overall average miles/gallon was {overall_mpg:.6f}\")\n",
    "    else:\n",
    "        print(\"No data to calculate overall miles/gallon.\")\n",
    "\n",
    "if __name__ == \"__main__\":\n",
    "    miles_per_gallon()"
   ]
  },
  {
   "cell_type": "markdown",
   "metadata": {},
   "source": [
    "# Second Case Study: A Game of Chance - Crap"
   ]
  },
  {
   "cell_type": "markdown",
   "metadata": {},
   "source": [
    "- You roll two six-sided dice, each with faces containing one, two, three, four, five and six spots, respectively. When the dice come to rest, the sum of the spots on the two upward faces is calculated.\n",
    "- If the sum is 7 or 11 on the first roll, you win. If the sum is 2, 3 or 12 on the first roll (called “craps”), you lose (i.e., the “house” wins).\n",
    "- If the sum is 4, 5, 6, 8, 9 or 10 on the first roll, that sum becomes your “point.” To win, you must continue rolling the dice until you “make your point” (i.e., roll that same point value). You lose by rolling a 7 before making your point."
   ]
  },
  {
   "cell_type": "code",
   "execution_count": 3,
   "metadata": {},
   "outputs": [
    {
     "name": "stdout",
     "output_type": "stream",
     "text": [
      "\n",
      "--- New Game ---\n",
      "A Game of Chance - Craps\n",
      "You rolled: 2 + 5 = 7\n",
      "You win!\n",
      "\n",
      "Score - Wins: 1, Losses: 0\n",
      "\n",
      "--- New Game ---\n",
      "A Game of Chance - Craps\n",
      "You rolled: 1 + 1 = 2\n",
      "Craps! You lose!\n",
      "\n",
      "Score - Wins: 1, Losses: 1\n",
      "\n",
      "--- New Game ---\n",
      "A Game of Chance - Craps\n",
      "You rolled: 5 + 5 = 10\n",
      "Your point is 10. Keep rolling to make your point.\n",
      "You rolled: 4 + 4 = 8\n",
      "You rolled: 4 + 6 = 10\n",
      "You made your point! You win!\n",
      "\n",
      "Score - Wins: 2, Losses: 1\n",
      "\n",
      "--- New Game ---\n",
      "A Game of Chance - Craps\n",
      "You rolled: 5 + 5 = 10\n",
      "Your point is 10. Keep rolling to make your point.\n",
      "You rolled: 2 + 2 = 4\n",
      "You rolled: 1 + 4 = 5\n",
      "You rolled: 2 + 5 = 7\n",
      "You rolled a 7. You lose!\n",
      "\n",
      "Score - Wins: 2, Losses: 2\n",
      "\n",
      "Thanks for playing! Final score - Wins: 2, Losses: 2\n"
     ]
    }
   ],
   "source": [
    "def roll_dice():\n",
    "    while True:\n",
    "      dice_input = input(\"Enter the values of the two dice (example: 2 5): \")\n",
    "      dice1, dice2 = map(int, dice_input.split())\n",
    "      if 1 <= dice1 <= 6 and 1 <= dice2 <= 6:\n",
    "        return dice1, dice2\n",
    "      else:\n",
    "        print(\"Invalid input. Please enter a number between 1 and 6 for both dice.\")\n",
    "\n",
    "def play_game():\n",
    "    print(\"A Game of Chance - Craps\")\n",
    "\n",
    "    # First roll\n",
    "    dice1, dice2 = roll_dice()\n",
    "    sum_dice = dice1 + dice2\n",
    "    print(f\"You rolled: {dice1} + {dice2} = {sum_dice}\")\n",
    "\n",
    "    if sum_dice == 7 or sum_dice == 11:\n",
    "        print(\"You win!\")\n",
    "        return \"win\"\n",
    "    elif sum_dice == 2 or sum_dice == 3 or sum_dice == 12:\n",
    "        print(\"Craps! You lose!\")\n",
    "        return \"lose\"\n",
    "    else:\n",
    "        point = sum_dice\n",
    "        print(f\"Your point is {point}. Keep rolling to make your point.\")\n",
    "\n",
    "    # Continue rolling\n",
    "    while True:\n",
    "        dice1, dice2 = roll_dice()\n",
    "        sum_dice = dice1 + dice2\n",
    "        print(f\"You rolled: {dice1} + {dice2} = {sum_dice}\")\n",
    "\n",
    "        if sum_dice == point:\n",
    "            print(\"You made your point! You win!\")\n",
    "            return \"win\"\n",
    "        elif sum_dice == 7:\n",
    "            print(\"You rolled a 7. You lose!\")\n",
    "            return \"lose\"\n",
    "\n",
    "def main():\n",
    "    \"\"\"Main game loop.\"\"\"\n",
    "    wins = 0\n",
    "    losses = 0\n",
    "\n",
    "    while True:\n",
    "        print(\"\\n--- New Game ---\")\n",
    "        result = play_game()\n",
    "\n",
    "        if result == \"win\":\n",
    "            wins += 1\n",
    "        elif result == \"lose\":\n",
    "            losses += 1\n",
    "\n",
    "        print(f\"\\nScore - Wins: {wins}, Losses: {losses}\")\n",
    "\n",
    "        play_again = input(\"Do you want to play again? (y/n): \").lower()\n",
    "        if play_again != 'y':\n",
    "            break\n",
    "\n",
    "    print(f\"\\nThanks for playing! Final score - Wins: {wins}, Losses: {losses}\")\n",
    "\n",
    "if __name__ == \"__main__\":\n",
    "    main()"
   ]
  },
  {
   "cell_type": "markdown",
   "metadata": {},
   "source": [
    "# Third Case Study: COVID 19 Infection Statistic"
   ]
  },
  {
   "cell_type": "markdown",
   "metadata": {},
   "source": [
    "- (COVID-19 Infection Statistics) During the first 20 days of the COVID-19 pandemic, the number of newly infected patients per day in a country were recorded.\n",
    "- Place the following numbers in a list: 174, 335, 278, 214, 422, 513, 737, 672, 489, 412, 1301, 1105, 1123, 1376, 1502, 894, 665, 1704, 1656, 1342. Use the built-in functions in the statistics module to display the following statistics concerning the infection rate: minimum, maximum, range, mean, median, variance, and standard deviation."
   ]
  },
  {
   "cell_type": "code",
   "execution_count": 6,
   "metadata": {},
   "outputs": [
    {
     "name": "stdout",
     "output_type": "stream",
     "text": [
      "The maximum number of infected patients in 20 days is 1704\n",
      "The minimum number of infected patients in 20 days is 174\n",
      "The range of the number of infected patients in 20 days is 1530\n",
      "The mean of the number of infected patients in 20 days is 845.7\n",
      "The median of the number of infected patients in 20 days is 704.5\n",
      "The mode of the number of infected patients in 20 days is 174\n",
      "The variance of the number of infected patients in 20 days is 253620.74736842106\n",
      "The standard deviation of the number of infected patients in 20 days is 503.60773164082883\n"
     ]
    }
   ],
   "source": [
    "import statistics\n",
    "\n",
    "infected_patients = [174, 335, 278, 214, 422, 513, 737, 672, 489, 412, 1301,\n",
    "1105, 1123, 1376, 1502, 894, 665, 1704, 1656, 1342]\n",
    "\n",
    "#print max number\n",
    "print(\"The maximum number of infected patients in 20 days is \" + str(max(infected_patients)))\n",
    "\n",
    "#print min number\n",
    "print(\"The minimum number of infected patients in 20 days is \" + str(min(infected_patients)))\n",
    "\n",
    "#print range\n",
    "range = max(infected_patients) - min(infected_patients)\n",
    "print(\"The range of the number of infected patients in 20 days is \" + str(range))\n",
    "\n",
    "#print mean\n",
    "mean = statistics.mean(infected_patients)\n",
    "print(\"The mean of the number of infected patients in 20 days is \" + str(mean))\n",
    "\n",
    "#print median\n",
    "median = statistics.median(infected_patients)\n",
    "print(\"The median of the number of infected patients in 20 days is \" + str(median))\n",
    "\n",
    "#print mode\n",
    "mode = statistics.mode(infected_patients)\n",
    "print(\"The mode of the number of infected patients in 20 days is \" + str(mode))\n",
    "\n",
    "#print variance\n",
    "variance = statistics.variance(infected_patients)\n",
    "print(\"The variance of the number of infected patients in 20 days is \" + str(variance))\n",
    "\n",
    "#print standard deviation\n",
    "standard_deviation = statistics.stdev(infected_patients)\n",
    "print(\"The standard deviation of the number of infected patients in 20 days is \" + str(standard_deviation))"
   ]
  }
 ],
 "metadata": {
  "kernelspec": {
   "display_name": "Python 3",
   "language": "python",
   "name": "python3"
  },
  "language_info": {
   "codemirror_mode": {
    "name": "ipython",
    "version": 3
   },
   "file_extension": ".py",
   "mimetype": "text/x-python",
   "name": "python",
   "nbconvert_exporter": "python",
   "pygments_lexer": "ipython3",
   "version": "3.12.3"
  }
 },
 "nbformat": 4,
 "nbformat_minor": 2
}
